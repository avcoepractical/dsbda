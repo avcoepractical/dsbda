{
 "cells": [
  {
   "cell_type": "code",
   "execution_count": 1,
   "id": "e299ec6a-df2f-48b4-ae3f-6804a69fb727",
   "metadata": {},
   "outputs": [
    {
     "name": "stdout",
     "output_type": "stream",
     "text": [
      "    Page total likes;Type;Category;Post Month;Post Weekday;Post Hour;Paid;Lifetime Post Total Reach;Lifetime Post Total Impressions;Lifetime Engaged Users;Lifetime Post Consumers;Lifetime Post Consumptions;Lifetime Post Impressions by people who have liked your Page;Lifetime Post reach by people who like your Page;Lifetime People who have liked your Page and engaged with your post;comment;like;share;Total Interactions\n",
      "0    139441;Photo;2;12;4;3;0;2752;5091;178;109;159;...                                                                                                                                                                                                                                                                                                                                                                               \n",
      "1    139441;Status;2;12;3;10;0;10460;19057;1457;136...                                                                                                                                                                                                                                                                                                                                                                               \n",
      "2    139441;Photo;3;12;3;3;0;2413;4373;177;113;154;...                                                                                                                                                                                                                                                                                                                                                                               \n",
      "3    139441;Photo;2;12;2;10;1;50128;87991;2211;790;...                                                                                                                                                                                                                                                                                                                                                                               \n",
      "4    139441;Photo;2;12;2;3;0;7244;13594;671;410;580...                                                                                                                                                                                                                                                                                                                                                                               \n",
      "..                                                 ...                                                                                                                                                                                                                                                                                                                                                                               \n",
      "495  85093;Photo;3;1;7;2;0;4684;7536;733;708;985;47...                                                                                                                                                                                                                                                                                                                                                                               \n",
      "496  81370;Photo;2;1;5;8;0;3480;6229;537;508;687;39...                                                                                                                                                                                                                                                                                                                                                                               \n",
      "497  81370;Photo;1;1;5;2;0;3778;7216;625;572;795;47...                                                                                                                                                                                                                                                                                                                                                                               \n",
      "498  81370;Photo;3;1;4;11;0;4156;7564;626;574;832;4...                                                                                                                                                                                                                                                                                                                                                                               \n",
      "499  81370;Photo;2;1;4;4;;4188;7292;564;524;743;386...                                                                                                                                                                                                                                                                                                                                                                               \n",
      "\n",
      "[500 rows x 1 columns]\n"
     ]
    }
   ],
   "source": [
    "import numpy as np\n",
    "import pandas as pd\n",
    "a=pd.read_csv(\"C:/Users/abhis/OneDrive/Documents/Desktop/dataset_Facebook.csv\")\n",
    "print(a)"
   ]
  },
  {
   "cell_type": "code",
   "execution_count": 2,
   "id": "89d8e36a-1b71-4700-917f-1072f620af03",
   "metadata": {},
   "outputs": [
    {
     "data": {
      "text/html": [
       "<div>\n",
       "<style scoped>\n",
       "    .dataframe tbody tr th:only-of-type {\n",
       "        vertical-align: middle;\n",
       "    }\n",
       "\n",
       "    .dataframe tbody tr th {\n",
       "        vertical-align: top;\n",
       "    }\n",
       "\n",
       "    .dataframe thead th {\n",
       "        text-align: right;\n",
       "    }\n",
       "</style>\n",
       "<table border=\"1\" class=\"dataframe\">\n",
       "  <thead>\n",
       "    <tr style=\"text-align: right;\">\n",
       "      <th></th>\n",
       "      <th>Page total likes;Type;Category;Post Month;Post Weekday;Post Hour;Paid;Lifetime Post Total Reach;Lifetime Post Total Impressions;Lifetime Engaged Users;Lifetime Post Consumers;Lifetime Post Consumptions;Lifetime Post Impressions by people who have liked your Page;Lifetime Post reach by people who like your Page;Lifetime People who have liked your Page and engaged with your post;comment;like;share;Total Interactions</th>\n",
       "    </tr>\n",
       "  </thead>\n",
       "  <tbody>\n",
       "    <tr>\n",
       "      <th>count</th>\n",
       "      <td>500</td>\n",
       "    </tr>\n",
       "    <tr>\n",
       "      <th>unique</th>\n",
       "      <td>500</td>\n",
       "    </tr>\n",
       "    <tr>\n",
       "      <th>top</th>\n",
       "      <td>139441;Photo;2;12;4;3;0;2752;5091;178;109;159;...</td>\n",
       "    </tr>\n",
       "    <tr>\n",
       "      <th>freq</th>\n",
       "      <td>1</td>\n",
       "    </tr>\n",
       "  </tbody>\n",
       "</table>\n",
       "</div>"
      ],
      "text/plain": [
       "       Page total likes;Type;Category;Post Month;Post Weekday;Post Hour;Paid;Lifetime Post Total Reach;Lifetime Post Total Impressions;Lifetime Engaged Users;Lifetime Post Consumers;Lifetime Post Consumptions;Lifetime Post Impressions by people who have liked your Page;Lifetime Post reach by people who like your Page;Lifetime People who have liked your Page and engaged with your post;comment;like;share;Total Interactions\n",
       "count                                                 500                                                                                                                                                                                                                                                                                                                                                                               \n",
       "unique                                                500                                                                                                                                                                                                                                                                                                                                                                               \n",
       "top     139441;Photo;2;12;4;3;0;2752;5091;178;109;159;...                                                                                                                                                                                                                                                                                                                                                                               \n",
       "freq                                                    1                                                                                                                                                                                                                                                                                                                                                                               "
      ]
     },
     "execution_count": 2,
     "metadata": {},
     "output_type": "execute_result"
    }
   ],
   "source": [
    "a.describe()"
   ]
  },
  {
   "cell_type": "code",
   "execution_count": 3,
   "id": "62ebcaa5-3ff2-41c9-ba08-691b47da9876",
   "metadata": {},
   "outputs": [
    {
     "name": "stdout",
     "output_type": "stream",
     "text": [
      "<class 'pandas.core.frame.DataFrame'>\n",
      "RangeIndex: 500 entries, 0 to 499\n",
      "Data columns (total 1 columns):\n",
      " #   Column                                                                                                                                                                                                                                                                                                                                                                                                                             Non-Null Count  Dtype \n",
      "---  ------                                                                                                                                                                                                                                                                                                                                                                                                                             --------------  ----- \n",
      " 0   Page total likes;Type;Category;Post Month;Post Weekday;Post Hour;Paid;Lifetime Post Total Reach;Lifetime Post Total Impressions;Lifetime Engaged Users;Lifetime Post Consumers;Lifetime Post Consumptions;Lifetime Post Impressions by people who have liked your Page;Lifetime Post reach by people who like your Page;Lifetime People who have liked your Page and engaged with your post;comment;like;share;Total Interactions  500 non-null    object\n",
      "dtypes: object(1)\n",
      "memory usage: 4.0+ KB\n"
     ]
    }
   ],
   "source": [
    "a.info()"
   ]
  },
  {
   "cell_type": "code",
   "execution_count": 4,
   "id": "587ed052-8fc7-4430-a126-c386ea1c5a81",
   "metadata": {},
   "outputs": [
    {
     "data": {
      "text/html": [
       "<div>\n",
       "<style scoped>\n",
       "    .dataframe tbody tr th:only-of-type {\n",
       "        vertical-align: middle;\n",
       "    }\n",
       "\n",
       "    .dataframe tbody tr th {\n",
       "        vertical-align: top;\n",
       "    }\n",
       "\n",
       "    .dataframe thead th {\n",
       "        text-align: right;\n",
       "    }\n",
       "</style>\n",
       "<table border=\"1\" class=\"dataframe\">\n",
       "  <thead>\n",
       "    <tr style=\"text-align: right;\">\n",
       "      <th></th>\n",
       "      <th>Page total likes;Type;Category;Post Month;Post Weekday;Post Hour;Paid;Lifetime Post Total Reach;Lifetime Post Total Impressions;Lifetime Engaged Users;Lifetime Post Consumers;Lifetime Post Consumptions;Lifetime Post Impressions by people who have liked your Page;Lifetime Post reach by people who like your Page;Lifetime People who have liked your Page and engaged with your post;comment;like;share;Total Interactions</th>\n",
       "    </tr>\n",
       "  </thead>\n",
       "  <tbody>\n",
       "    <tr>\n",
       "      <th>495</th>\n",
       "      <td>85093;Photo;3;1;7;2;0;4684;7536;733;708;985;47...</td>\n",
       "    </tr>\n",
       "    <tr>\n",
       "      <th>496</th>\n",
       "      <td>81370;Photo;2;1;5;8;0;3480;6229;537;508;687;39...</td>\n",
       "    </tr>\n",
       "    <tr>\n",
       "      <th>497</th>\n",
       "      <td>81370;Photo;1;1;5;2;0;3778;7216;625;572;795;47...</td>\n",
       "    </tr>\n",
       "    <tr>\n",
       "      <th>498</th>\n",
       "      <td>81370;Photo;3;1;4;11;0;4156;7564;626;574;832;4...</td>\n",
       "    </tr>\n",
       "    <tr>\n",
       "      <th>499</th>\n",
       "      <td>81370;Photo;2;1;4;4;;4188;7292;564;524;743;386...</td>\n",
       "    </tr>\n",
       "  </tbody>\n",
       "</table>\n",
       "</div>"
      ],
      "text/plain": [
       "    Page total likes;Type;Category;Post Month;Post Weekday;Post Hour;Paid;Lifetime Post Total Reach;Lifetime Post Total Impressions;Lifetime Engaged Users;Lifetime Post Consumers;Lifetime Post Consumptions;Lifetime Post Impressions by people who have liked your Page;Lifetime Post reach by people who like your Page;Lifetime People who have liked your Page and engaged with your post;comment;like;share;Total Interactions\n",
       "495  85093;Photo;3;1;7;2;0;4684;7536;733;708;985;47...                                                                                                                                                                                                                                                                                                                                                                               \n",
       "496  81370;Photo;2;1;5;8;0;3480;6229;537;508;687;39...                                                                                                                                                                                                                                                                                                                                                                               \n",
       "497  81370;Photo;1;1;5;2;0;3778;7216;625;572;795;47...                                                                                                                                                                                                                                                                                                                                                                               \n",
       "498  81370;Photo;3;1;4;11;0;4156;7564;626;574;832;4...                                                                                                                                                                                                                                                                                                                                                                               \n",
       "499  81370;Photo;2;1;4;4;;4188;7292;564;524;743;386...                                                                                                                                                                                                                                                                                                                                                                               "
      ]
     },
     "execution_count": 4,
     "metadata": {},
     "output_type": "execute_result"
    }
   ],
   "source": [
    "a.tail()"
   ]
  },
  {
   "cell_type": "code",
   "execution_count": 5,
   "id": "2ef4a919-5fa1-450c-90e2-201597d1b5c6",
   "metadata": {},
   "outputs": [
    {
     "data": {
      "text/html": [
       "<div>\n",
       "<style scoped>\n",
       "    .dataframe tbody tr th:only-of-type {\n",
       "        vertical-align: middle;\n",
       "    }\n",
       "\n",
       "    .dataframe tbody tr th {\n",
       "        vertical-align: top;\n",
       "    }\n",
       "\n",
       "    .dataframe thead th {\n",
       "        text-align: right;\n",
       "    }\n",
       "</style>\n",
       "<table border=\"1\" class=\"dataframe\">\n",
       "  <thead>\n",
       "    <tr style=\"text-align: right;\">\n",
       "      <th></th>\n",
       "      <th>Page total likes;Type;Category;Post Month;Post Weekday;Post Hour;Paid;Lifetime Post Total Reach;Lifetime Post Total Impressions;Lifetime Engaged Users;Lifetime Post Consumers;Lifetime Post Consumptions;Lifetime Post Impressions by people who have liked your Page;Lifetime Post reach by people who like your Page;Lifetime People who have liked your Page and engaged with your post;comment;like;share;Total Interactions</th>\n",
       "    </tr>\n",
       "  </thead>\n",
       "  <tbody>\n",
       "    <tr>\n",
       "      <th>0</th>\n",
       "      <td>False</td>\n",
       "    </tr>\n",
       "    <tr>\n",
       "      <th>1</th>\n",
       "      <td>False</td>\n",
       "    </tr>\n",
       "    <tr>\n",
       "      <th>2</th>\n",
       "      <td>False</td>\n",
       "    </tr>\n",
       "    <tr>\n",
       "      <th>3</th>\n",
       "      <td>False</td>\n",
       "    </tr>\n",
       "    <tr>\n",
       "      <th>4</th>\n",
       "      <td>False</td>\n",
       "    </tr>\n",
       "    <tr>\n",
       "      <th>...</th>\n",
       "      <td>...</td>\n",
       "    </tr>\n",
       "    <tr>\n",
       "      <th>495</th>\n",
       "      <td>False</td>\n",
       "    </tr>\n",
       "    <tr>\n",
       "      <th>496</th>\n",
       "      <td>False</td>\n",
       "    </tr>\n",
       "    <tr>\n",
       "      <th>497</th>\n",
       "      <td>False</td>\n",
       "    </tr>\n",
       "    <tr>\n",
       "      <th>498</th>\n",
       "      <td>False</td>\n",
       "    </tr>\n",
       "    <tr>\n",
       "      <th>499</th>\n",
       "      <td>False</td>\n",
       "    </tr>\n",
       "  </tbody>\n",
       "</table>\n",
       "<p>500 rows × 1 columns</p>\n",
       "</div>"
      ],
      "text/plain": [
       "     Page total likes;Type;Category;Post Month;Post Weekday;Post Hour;Paid;Lifetime Post Total Reach;Lifetime Post Total Impressions;Lifetime Engaged Users;Lifetime Post Consumers;Lifetime Post Consumptions;Lifetime Post Impressions by people who have liked your Page;Lifetime Post reach by people who like your Page;Lifetime People who have liked your Page and engaged with your post;comment;like;share;Total Interactions\n",
       "0                                                False                                                                                                                                                                                                                                                                                                                                                                                \n",
       "1                                                False                                                                                                                                                                                                                                                                                                                                                                                \n",
       "2                                                False                                                                                                                                                                                                                                                                                                                                                                                \n",
       "3                                                False                                                                                                                                                                                                                                                                                                                                                                                \n",
       "4                                                False                                                                                                                                                                                                                                                                                                                                                                                \n",
       "..                                                 ...                                                                                                                                                                                                                                                                                                                                                                                \n",
       "495                                              False                                                                                                                                                                                                                                                                                                                                                                                \n",
       "496                                              False                                                                                                                                                                                                                                                                                                                                                                                \n",
       "497                                              False                                                                                                                                                                                                                                                                                                                                                                                \n",
       "498                                              False                                                                                                                                                                                                                                                                                                                                                                                \n",
       "499                                              False                                                                                                                                                                                                                                                                                                                                                                                \n",
       "\n",
       "[500 rows x 1 columns]"
      ]
     },
     "execution_count": 5,
     "metadata": {},
     "output_type": "execute_result"
    }
   ],
   "source": [
    "a.isnull()"
   ]
  },
  {
   "cell_type": "code",
   "execution_count": 6,
   "id": "be2eb8f3-c6a5-4322-af01-de701176760b",
   "metadata": {},
   "outputs": [
    {
     "data": {
      "text/html": [
       "<div>\n",
       "<style scoped>\n",
       "    .dataframe tbody tr th:only-of-type {\n",
       "        vertical-align: middle;\n",
       "    }\n",
       "\n",
       "    .dataframe tbody tr th {\n",
       "        vertical-align: top;\n",
       "    }\n",
       "\n",
       "    .dataframe thead th {\n",
       "        text-align: right;\n",
       "    }\n",
       "</style>\n",
       "<table border=\"1\" class=\"dataframe\">\n",
       "  <thead>\n",
       "    <tr style=\"text-align: right;\">\n",
       "      <th></th>\n",
       "      <th>Page total likes;Type;Category;Post Month;Post Weekday;Post Hour;Paid;Lifetime Post Total Reach;Lifetime Post Total Impressions;Lifetime Engaged Users;Lifetime Post Consumers;Lifetime Post Consumptions;Lifetime Post Impressions by people who have liked your Page;Lifetime Post reach by people who like your Page;Lifetime People who have liked your Page and engaged with your post;comment;like;share;Total Interactions</th>\n",
       "    </tr>\n",
       "  </thead>\n",
       "  <tbody>\n",
       "    <tr>\n",
       "      <th>0</th>\n",
       "      <td>139441;Photo;2;12;4;3;0;2752;5091;178;109;159;...</td>\n",
       "    </tr>\n",
       "    <tr>\n",
       "      <th>1</th>\n",
       "      <td>139441;Status;2;12;3;10;0;10460;19057;1457;136...</td>\n",
       "    </tr>\n",
       "    <tr>\n",
       "      <th>2</th>\n",
       "      <td>139441;Photo;3;12;3;3;0;2413;4373;177;113;154;...</td>\n",
       "    </tr>\n",
       "    <tr>\n",
       "      <th>3</th>\n",
       "      <td>139441;Photo;2;12;2;10;1;50128;87991;2211;790;...</td>\n",
       "    </tr>\n",
       "    <tr>\n",
       "      <th>4</th>\n",
       "      <td>139441;Photo;2;12;2;3;0;7244;13594;671;410;580...</td>\n",
       "    </tr>\n",
       "  </tbody>\n",
       "</table>\n",
       "</div>"
      ],
      "text/plain": [
       "  Page total likes;Type;Category;Post Month;Post Weekday;Post Hour;Paid;Lifetime Post Total Reach;Lifetime Post Total Impressions;Lifetime Engaged Users;Lifetime Post Consumers;Lifetime Post Consumptions;Lifetime Post Impressions by people who have liked your Page;Lifetime Post reach by people who like your Page;Lifetime People who have liked your Page and engaged with your post;comment;like;share;Total Interactions\n",
       "0  139441;Photo;2;12;4;3;0;2752;5091;178;109;159;...                                                                                                                                                                                                                                                                                                                                                                               \n",
       "1  139441;Status;2;12;3;10;0;10460;19057;1457;136...                                                                                                                                                                                                                                                                                                                                                                               \n",
       "2  139441;Photo;3;12;3;3;0;2413;4373;177;113;154;...                                                                                                                                                                                                                                                                                                                                                                               \n",
       "3  139441;Photo;2;12;2;10;1;50128;87991;2211;790;...                                                                                                                                                                                                                                                                                                                                                                               \n",
       "4  139441;Photo;2;12;2;3;0;7244;13594;671;410;580...                                                                                                                                                                                                                                                                                                                                                                               "
      ]
     },
     "execution_count": 6,
     "metadata": {},
     "output_type": "execute_result"
    }
   ],
   "source": [
    "a.head()"
   ]
  },
  {
   "cell_type": "code",
   "execution_count": 8,
   "id": "2de18ae2-f2ac-4695-af04-9d917c6597e1",
   "metadata": {},
   "outputs": [
    {
     "name": "stdout",
     "output_type": "stream",
     "text": [
      "Original Data frame:\n",
      "\n",
      "   Roll num  Age    NAME\n",
      "0        10   12    John\n",
      "1        20   14  Camili\n",
      "2        30   13  Rheana\n",
      "3        40   12  Joseph\n",
      "4        50   14  Amanti\n",
      "5        60   13   Alexa\n",
      "6        70   15    siri\n"
     ]
    }
   ],
   "source": [
    "data = {\"Roll num\": [10,20,30,40,50,60,70], \"Age\":[12,14,13,12,14,13,15],\n",
    "\"NAME\":['John','Camili','Rheana','Joseph','Amanti','Alexa','siri']}\n",
    "b =pd.DataFrame(data)\n",
    "print(\"Original Data frame:\\n\")\n",
    "print(b)"
   ]
  },
  {
   "cell_type": "code",
   "execution_count": 9,
   "id": "2b0b5d79-7d6d-4be9-892e-837db048c3df",
   "metadata": {},
   "outputs": [
    {
     "data": {
      "text/html": [
       "<div>\n",
       "<style scoped>\n",
       "    .dataframe tbody tr th:only-of-type {\n",
       "        vertical-align: middle;\n",
       "    }\n",
       "\n",
       "    .dataframe tbody tr th {\n",
       "        vertical-align: top;\n",
       "    }\n",
       "\n",
       "    .dataframe thead th {\n",
       "        text-align: right;\n",
       "    }\n",
       "</style>\n",
       "<table border=\"1\" class=\"dataframe\">\n",
       "  <thead>\n",
       "    <tr style=\"text-align: right;\">\n",
       "      <th></th>\n",
       "      <th>Roll num</th>\n",
       "      <th>Age</th>\n",
       "      <th>NAME</th>\n",
       "    </tr>\n",
       "  </thead>\n",
       "  <tbody>\n",
       "    <tr>\n",
       "      <th>0</th>\n",
       "      <td>10</td>\n",
       "      <td>12</td>\n",
       "      <td>John</td>\n",
       "    </tr>\n",
       "    <tr>\n",
       "      <th>1</th>\n",
       "      <td>20</td>\n",
       "      <td>14</td>\n",
       "      <td>Camili</td>\n",
       "    </tr>\n",
       "    <tr>\n",
       "      <th>3</th>\n",
       "      <td>40</td>\n",
       "      <td>12</td>\n",
       "      <td>Joseph</td>\n",
       "    </tr>\n",
       "  </tbody>\n",
       "</table>\n",
       "</div>"
      ],
      "text/plain": [
       "   Roll num  Age    NAME\n",
       "0        10   12    John\n",
       "1        20   14  Camili\n",
       "3        40   12  Joseph"
      ]
     },
     "execution_count": 9,
     "metadata": {},
     "output_type": "execute_result"
    }
   ],
   "source": [
    "b.loc[[0,1,3]]"
   ]
  },
  {
   "cell_type": "code",
   "execution_count": 10,
   "id": "1763327d-8ec2-4b36-b803-7b4a2eababb0",
   "metadata": {},
   "outputs": [
    {
     "data": {
      "text/html": [
       "<div>\n",
       "<style scoped>\n",
       "    .dataframe tbody tr th:only-of-type {\n",
       "        vertical-align: middle;\n",
       "    }\n",
       "\n",
       "    .dataframe tbody tr th {\n",
       "        vertical-align: top;\n",
       "    }\n",
       "\n",
       "    .dataframe thead th {\n",
       "        text-align: right;\n",
       "    }\n",
       "</style>\n",
       "<table border=\"1\" class=\"dataframe\">\n",
       "  <thead>\n",
       "    <tr style=\"text-align: right;\">\n",
       "      <th></th>\n",
       "      <th>Roll num</th>\n",
       "      <th>Age</th>\n",
       "      <th>NAME</th>\n",
       "    </tr>\n",
       "  </thead>\n",
       "  <tbody>\n",
       "    <tr>\n",
       "      <th>0</th>\n",
       "      <td>10</td>\n",
       "      <td>12</td>\n",
       "      <td>John</td>\n",
       "    </tr>\n",
       "    <tr>\n",
       "      <th>1</th>\n",
       "      <td>20</td>\n",
       "      <td>14</td>\n",
       "      <td>Camili</td>\n",
       "    </tr>\n",
       "    <tr>\n",
       "      <th>2</th>\n",
       "      <td>30</td>\n",
       "      <td>13</td>\n",
       "      <td>Rheana</td>\n",
       "    </tr>\n",
       "    <tr>\n",
       "      <th>3</th>\n",
       "      <td>40</td>\n",
       "      <td>12</td>\n",
       "      <td>Joseph</td>\n",
       "    </tr>\n",
       "  </tbody>\n",
       "</table>\n",
       "</div>"
      ],
      "text/plain": [
       "   Roll num  Age    NAME\n",
       "0        10   12    John\n",
       "1        20   14  Camili\n",
       "2        30   13  Rheana\n",
       "3        40   12  Joseph"
      ]
     },
     "execution_count": 10,
     "metadata": {},
     "output_type": "execute_result"
    }
   ],
   "source": [
    "b.loc[0:3]"
   ]
  },
  {
   "cell_type": "code",
   "execution_count": 11,
   "id": "349e713d-2ffd-427b-866a-d803c8b64629",
   "metadata": {},
   "outputs": [
    {
     "data": {
      "text/html": [
       "<div>\n",
       "<style scoped>\n",
       "    .dataframe tbody tr th:only-of-type {\n",
       "        vertical-align: middle;\n",
       "    }\n",
       "\n",
       "    .dataframe tbody tr th {\n",
       "        vertical-align: top;\n",
       "    }\n",
       "\n",
       "    .dataframe thead th {\n",
       "        text-align: right;\n",
       "    }\n",
       "</style>\n",
       "<table border=\"1\" class=\"dataframe\">\n",
       "  <thead>\n",
       "    <tr style=\"text-align: right;\">\n",
       "      <th></th>\n",
       "      <th>Age</th>\n",
       "      <th>NAME</th>\n",
       "    </tr>\n",
       "  </thead>\n",
       "  <tbody>\n",
       "    <tr>\n",
       "      <th>0</th>\n",
       "      <td>12</td>\n",
       "      <td>John</td>\n",
       "    </tr>\n",
       "    <tr>\n",
       "      <th>1</th>\n",
       "      <td>14</td>\n",
       "      <td>Camili</td>\n",
       "    </tr>\n",
       "    <tr>\n",
       "      <th>2</th>\n",
       "      <td>13</td>\n",
       "      <td>Rheana</td>\n",
       "    </tr>\n",
       "  </tbody>\n",
       "</table>\n",
       "</div>"
      ],
      "text/plain": [
       "   Age    NAME\n",
       "0   12    John\n",
       "1   14  Camili\n",
       "2   13  Rheana"
      ]
     },
     "execution_count": 11,
     "metadata": {},
     "output_type": "execute_result"
    }
   ],
   "source": [
    "b.loc[0:2,['Age','NAME']]"
   ]
  },
  {
   "cell_type": "code",
   "execution_count": 12,
   "id": "3a01b6fb-bf77-4636-a9a7-43fd2289937f",
   "metadata": {},
   "outputs": [
    {
     "data": {
      "text/html": [
       "<div>\n",
       "<style scoped>\n",
       "    .dataframe tbody tr th:only-of-type {\n",
       "        vertical-align: middle;\n",
       "    }\n",
       "\n",
       "    .dataframe tbody tr th {\n",
       "        vertical-align: top;\n",
       "    }\n",
       "\n",
       "    .dataframe thead th {\n",
       "        text-align: right;\n",
       "    }\n",
       "</style>\n",
       "<table border=\"1\" class=\"dataframe\">\n",
       "  <thead>\n",
       "    <tr style=\"text-align: right;\">\n",
       "      <th></th>\n",
       "      <th>Roll num</th>\n",
       "      <th>NAME</th>\n",
       "    </tr>\n",
       "  </thead>\n",
       "  <tbody>\n",
       "    <tr>\n",
       "      <th>0</th>\n",
       "      <td>10</td>\n",
       "      <td>John</td>\n",
       "    </tr>\n",
       "    <tr>\n",
       "      <th>1</th>\n",
       "      <td>20</td>\n",
       "      <td>Camili</td>\n",
       "    </tr>\n",
       "    <tr>\n",
       "      <th>3</th>\n",
       "      <td>40</td>\n",
       "      <td>Joseph</td>\n",
       "    </tr>\n",
       "    <tr>\n",
       "      <th>6</th>\n",
       "      <td>70</td>\n",
       "      <td>siri</td>\n",
       "    </tr>\n",
       "  </tbody>\n",
       "</table>\n",
       "</div>"
      ],
      "text/plain": [
       "   Roll num    NAME\n",
       "0        10    John\n",
       "1        20  Camili\n",
       "3        40  Joseph\n",
       "6        70    siri"
      ]
     },
     "execution_count": 12,
     "metadata": {},
     "output_type": "execute_result"
    }
   ],
   "source": [
    "b.iloc[[0,1,3,6],[0,2]]"
   ]
  },
  {
   "cell_type": "code",
   "execution_count": 13,
   "id": "abd1b06b-6041-4ed5-93bc-c396d61a293a",
   "metadata": {},
   "outputs": [
    {
     "data": {
      "text/html": [
       "<div>\n",
       "<style scoped>\n",
       "    .dataframe tbody tr th:only-of-type {\n",
       "        vertical-align: middle;\n",
       "    }\n",
       "\n",
       "    .dataframe tbody tr th {\n",
       "        vertical-align: top;\n",
       "    }\n",
       "\n",
       "    .dataframe thead th {\n",
       "        text-align: right;\n",
       "    }\n",
       "</style>\n",
       "<table border=\"1\" class=\"dataframe\">\n",
       "  <thead>\n",
       "    <tr style=\"text-align: right;\">\n",
       "      <th></th>\n",
       "      <th>Roll num</th>\n",
       "      <th>NAME</th>\n",
       "      <th>Age</th>\n",
       "    </tr>\n",
       "  </thead>\n",
       "  <tbody>\n",
       "    <tr>\n",
       "      <th>0</th>\n",
       "      <td>10</td>\n",
       "      <td>John</td>\n",
       "      <td>12</td>\n",
       "    </tr>\n",
       "    <tr>\n",
       "      <th>1</th>\n",
       "      <td>20</td>\n",
       "      <td>Camili</td>\n",
       "      <td>14</td>\n",
       "    </tr>\n",
       "    <tr>\n",
       "      <th>2</th>\n",
       "      <td>30</td>\n",
       "      <td>Rheana</td>\n",
       "      <td>13</td>\n",
       "    </tr>\n",
       "    <tr>\n",
       "      <th>3</th>\n",
       "      <td>40</td>\n",
       "      <td>Joseph</td>\n",
       "      <td>12</td>\n",
       "    </tr>\n",
       "    <tr>\n",
       "      <th>4</th>\n",
       "      <td>50</td>\n",
       "      <td>Amanti</td>\n",
       "      <td>14</td>\n",
       "    </tr>\n",
       "    <tr>\n",
       "      <th>5</th>\n",
       "      <td>60</td>\n",
       "      <td>Alexa</td>\n",
       "      <td>13</td>\n",
       "    </tr>\n",
       "    <tr>\n",
       "      <th>6</th>\n",
       "      <td>70</td>\n",
       "      <td>siri</td>\n",
       "      <td>15</td>\n",
       "    </tr>\n",
       "  </tbody>\n",
       "</table>\n",
       "</div>"
      ],
      "text/plain": [
       "   Roll num    NAME  Age\n",
       "0        10    John   12\n",
       "1        20  Camili   14\n",
       "2        30  Rheana   13\n",
       "3        40  Joseph   12\n",
       "4        50  Amanti   14\n",
       "5        60   Alexa   13\n",
       "6        70    siri   15"
      ]
     },
     "execution_count": 13,
     "metadata": {},
     "output_type": "execute_result"
    }
   ],
   "source": [
    "b[['Roll num','NAME','Age']]"
   ]
  },
  {
   "cell_type": "code",
   "execution_count": 14,
   "id": "d44c4d47-4b60-4c54-a050-ad4f20a3661a",
   "metadata": {},
   "outputs": [
    {
     "name": "stdout",
     "output_type": "stream",
     "text": [
      "   Page total likes;Type;Category;Post Month;Post Weekday;Post Hour;Paid;Lifetime Post Total Reach;Lifetime Post Total Impressions;Lifetime Engaged Users;Lifetime Post Consumers;Lifetime Post Consumptions;Lifetime Post Impressions by people who have liked your Page;Lifetime Post reach by people who like your Page;Lifetime People who have liked your Page and engaged with your post;comment;like;share;Total Interactions\n",
      "0   139441;Photo;2;12;4;3;0;2752;5091;178;109;159;...                                                                                                                                                                                                                                                                                                                                                                               \n",
      "1   139441;Status;2;12;3;10;0;10460;19057;1457;136...                                                                                                                                                                                                                                                                                                                                                                               \n",
      "2   139441;Photo;3;12;3;3;0;2413;4373;177;113;154;...                                                                                                                                                                                                                                                                                                                                                                               \n",
      "3   139441;Photo;2;12;2;10;1;50128;87991;2211;790;...                                                                                                                                                                                                                                                                                                                                                                               \n",
      "4   139441;Photo;2;12;2;3;0;7244;13594;671;410;580...                                                                                                                                                                                                                                                                                                                                                                               \n",
      "5   139441;Status;2;12;1;9;0;10472;20849;1191;1073...                                                                                                                                                                                                                                                                                                                                                                               \n",
      "6   139441;Photo;3;12;1;3;1;11692;19479;481;265;36...                                                                                                                                                                                                                                                                                                                                                                               \n",
      "7   139441;Photo;3;12;7;9;1;13720;24137;537;232;30...                                                                                                                                                                                                                                                                                                                                                                               \n",
      "8   139441;Status;2;12;7;3;0;11844;22538;1530;1407...                                                                                                                                                                                                                                                                                                                                                                               \n",
      "9   139441;Photo;3;12;6;10;0;4694;8668;280;183;250...                                                                                                                                                                                                                                                                                                                                                                               \n",
      "10  139441;Status;2;12;5;10;0;21744;42334;4258;410...                                                                                                                                                                                                                                                                                                                                                                               \n",
      "11  139441;Photo;2;12;5;10;0;3112;5590;208;127;145...                                                                                                                                                                                                                                                                                                                                                                               \n",
      "12  139441;Photo;2;12;5;10;0;2847;5133;193;115;133...                                                                                                                                                                                                                                                                                                                                                                               \n",
      "13  139441;Photo;2;12;5;3;0;2549;4896;249;134;168;...                                                                                                                                                                                                                                                                                                                                                                               \n",
      "14  138414;Photo;2;12;4;5;1;22784;39941;887;337;41...                                                                                                                                                                                                                                                                                                                                                                               \n",
      "15  138414;Status;2;12;3;10;0;10060;19680;1264;120...                                                                                                                                                                                                                                                                                                                                                                               \n",
      "16  138414;Photo;3;12;3;3;0;1722;2981;163;123;148;...                                                                                                                                                                                                                                                                                                                                                                               \n",
      "17  138414;Photo;1;12;2;12;1;53264;111785;1706;110...                                                                                                                                                                                                                                                                                                                                                                               \n",
      "18  138414;Status;3;12;2;3;0;3930;7509;130;86;112;...                                                                                                                                                                                                                                                                                                                                                                               \n",
      "19  138414;Photo;3;12;1;11;0;1591;2825;121;88;111;...                                                                                                                                                                                                                                                                                                                                                                               \n",
      "20  138414;Photo;2;12;1;3;0;2848;5066;200;142;184;...                                                                                                                                                                                                                                                                                                                                                                               \n",
      "21  138414;Photo;1;12;7;10;0;1384;2467;15;15;20;21...                                                                                                                                                                                                                                                                                                                                                                               \n",
      "22  138414;Link;1;12;7;10;0;3454;6853;118;104;130;...                                                                                                                                                                                                                                                                                                                                                                               \n",
      "23  138414;Photo;3;12;7;3;0;2723;4888;176;118;143;...                                                                                                                                                                                                                                                                                                                                                                               \n",
      "24  138414;Status;2;12;6;10;0;8488;15294;1341;1270...                                                                                                                                                                                                                                                                                                                                                                               \n"
     ]
    }
   ],
   "source": [
    "#creating subsets and concat\n",
    "a2=a[:25]\n",
    "a3=a[25:]\n",
    "print(a2)"
   ]
  },
  {
   "cell_type": "code",
   "execution_count": 15,
   "id": "862fc505-5181-48a4-992d-d13f31895994",
   "metadata": {},
   "outputs": [
    {
     "name": "stdout",
     "output_type": "stream",
     "text": [
      "    Page total likes;Type;Category;Post Month;Post Weekday;Post Hour;Paid;Lifetime Post Total Reach;Lifetime Post Total Impressions;Lifetime Engaged Users;Lifetime Post Consumers;Lifetime Post Consumptions;Lifetime Post Impressions by people who have liked your Page;Lifetime Post reach by people who like your Page;Lifetime People who have liked your Page and engaged with your post;comment;like;share;Total Interactions\n",
      "25   138458;Status;2;12;6;3;0;8284;15104;1521;1462;...                                                                                                                                                                                                                                                                                                                                                                               \n",
      "26   138458;Status;2;12;5;11;0;19552;34143;2806;253...                                                                                                                                                                                                                                                                                                                                                                               \n",
      "27   138458;Photo;3;12;5;3;0;2478;4306;212;124;149;...                                                                                                                                                                                                                                                                                                                                                                               \n",
      "28   138895;Photo;2;12;5;3;0;9560;18264;973;559;885...                                                                                                                                                                                                                                                                                                                                                                               \n",
      "29   138895;Video;1;12;4;11;1;36208;61262;1141;1068...                                                                                                                                                                                                                                                                                                                                                                               \n",
      "..                                                 ...                                                                                                                                                                                                                                                                                                                                                                               \n",
      "495  85093;Photo;3;1;7;2;0;4684;7536;733;708;985;47...                                                                                                                                                                                                                                                                                                                                                                               \n",
      "496  81370;Photo;2;1;5;8;0;3480;6229;537;508;687;39...                                                                                                                                                                                                                                                                                                                                                                               \n",
      "497  81370;Photo;1;1;5;2;0;3778;7216;625;572;795;47...                                                                                                                                                                                                                                                                                                                                                                               \n",
      "498  81370;Photo;3;1;4;11;0;4156;7564;626;574;832;4...                                                                                                                                                                                                                                                                                                                                                                               \n",
      "499  81370;Photo;2;1;4;4;;4188;7292;564;524;743;386...                                                                                                                                                                                                                                                                                                                                                                               \n",
      "\n",
      "[475 rows x 1 columns]\n"
     ]
    }
   ],
   "source": [
    "print(a3)"
   ]
  },
  {
   "cell_type": "code",
   "execution_count": 17,
   "id": "15094517-a276-43dc-8eb1-dba8b23d8841",
   "metadata": {},
   "outputs": [
    {
     "name": "stdout",
     "output_type": "stream",
     "text": [
      "    Page total likes;Type;Category;Post Month;Post Weekday;Post Hour;Paid;Lifetime Post Total Reach;Lifetime Post Total Impressions;Lifetime Engaged Users;Lifetime Post Consumers;Lifetime Post Consumptions;Lifetime Post Impressions by people who have liked your Page;Lifetime Post reach by people who like your Page;Lifetime People who have liked your Page and engaged with your post;comment;like;share;Total Interactions\n",
      "0    139441;Photo;2;12;4;3;0;2752;5091;178;109;159;...                                                                                                                                                                                                                                                                                                                                                                               \n",
      "1    139441;Status;2;12;3;10;0;10460;19057;1457;136...                                                                                                                                                                                                                                                                                                                                                                               \n",
      "2    139441;Photo;3;12;3;3;0;2413;4373;177;113;154;...                                                                                                                                                                                                                                                                                                                                                                               \n",
      "3    139441;Photo;2;12;2;10;1;50128;87991;2211;790;...                                                                                                                                                                                                                                                                                                                                                                               \n",
      "4    139441;Photo;2;12;2;3;0;7244;13594;671;410;580...                                                                                                                                                                                                                                                                                                                                                                               \n",
      "..                                                 ...                                                                                                                                                                                                                                                                                                                                                                               \n",
      "495  85093;Photo;3;1;7;2;0;4684;7536;733;708;985;47...                                                                                                                                                                                                                                                                                                                                                                               \n",
      "496  81370;Photo;2;1;5;8;0;3480;6229;537;508;687;39...                                                                                                                                                                                                                                                                                                                                                                               \n",
      "497  81370;Photo;1;1;5;2;0;3778;7216;625;572;795;47...                                                                                                                                                                                                                                                                                                                                                                               \n",
      "498  81370;Photo;3;1;4;11;0;4156;7564;626;574;832;4...                                                                                                                                                                                                                                                                                                                                                                               \n",
      "499  81370;Photo;2;1;4;4;;4188;7292;564;524;743;386...                                                                                                                                                                                                                                                                                                                                                                               \n",
      "\n",
      "[500 rows x 1 columns]\n"
     ]
    }
   ],
   "source": [
    "#joining subsets horizontally\n",
    "a6=pd.concat([a2,a3],axis=0)\n",
    "a4=a.iloc[:,:2]\n",
    "a5=a.iloc[:,2:]\n",
    "print(a6)"
   ]
  },
  {
   "cell_type": "code",
   "execution_count": 18,
   "id": "1477072a-cd3d-4f8e-a782-1ddd1c46e8e7",
   "metadata": {},
   "outputs": [
    {
     "name": "stdout",
     "output_type": "stream",
     "text": [
      "    Page total likes;Type;Category;Post Month;Post Weekday;Post Hour;Paid;Lifetime Post Total Reach;Lifetime Post Total Impressions;Lifetime Engaged Users;Lifetime Post Consumers;Lifetime Post Consumptions;Lifetime Post Impressions by people who have liked your Page;Lifetime Post reach by people who like your Page;Lifetime People who have liked your Page and engaged with your post;comment;like;share;Total Interactions  \\\n",
      "0    139441;Photo;2;12;4;3;0;2752;5091;178;109;159;...                                                                                                                                                                                                                                                                                                                                                                                  \n",
      "1    139441;Status;2;12;3;10;0;10460;19057;1457;136...                                                                                                                                                                                                                                                                                                                                                                                  \n",
      "2    139441;Photo;3;12;3;3;0;2413;4373;177;113;154;...                                                                                                                                                                                                                                                                                                                                                                                  \n",
      "3    139441;Photo;2;12;2;10;1;50128;87991;2211;790;...                                                                                                                                                                                                                                                                                                                                                                                  \n",
      "4    139441;Photo;2;12;2;3;0;7244;13594;671;410;580...                                                                                                                                                                                                                                                                                                                                                                                  \n",
      "..                                                 ...                                                                                                                                                                                                                                                                                                                                                                                  \n",
      "495                                                NaN                                                                                                                                                                                                                                                                                                                                                                                  \n",
      "496                                                NaN                                                                                                                                                                                                                                                                                                                                                                                  \n",
      "497                                                NaN                                                                                                                                                                                                                                                                                                                                                                                  \n",
      "498                                                NaN                                                                                                                                                                                                                                                                                                                                                                                  \n",
      "499                                                NaN                                                                                                                                                                                                                                                                                                                                                                                  \n",
      "\n",
      "    Page total likes;Type;Category;Post Month;Post Weekday;Post Hour;Paid;Lifetime Post Total Reach;Lifetime Post Total Impressions;Lifetime Engaged Users;Lifetime Post Consumers;Lifetime Post Consumptions;Lifetime Post Impressions by people who have liked your Page;Lifetime Post reach by people who like your Page;Lifetime People who have liked your Page and engaged with your post;comment;like;share;Total Interactions  \n",
      "0                                                  NaN                                                                                                                                                                                                                                                                                                                                                                                 \n",
      "1                                                  NaN                                                                                                                                                                                                                                                                                                                                                                                 \n",
      "2                                                  NaN                                                                                                                                                                                                                                                                                                                                                                                 \n",
      "3                                                  NaN                                                                                                                                                                                                                                                                                                                                                                                 \n",
      "4                                                  NaN                                                                                                                                                                                                                                                                                                                                                                                 \n",
      "..                                                 ...                                                                                                                                                                                                                                                                                                                                                                                 \n",
      "495  85093;Photo;3;1;7;2;0;4684;7536;733;708;985;47...                                                                                                                                                                                                                                                                                                                                                                                 \n",
      "496  81370;Photo;2;1;5;8;0;3480;6229;537;508;687;39...                                                                                                                                                                                                                                                                                                                                                                                 \n",
      "497  81370;Photo;1;1;5;2;0;3778;7216;625;572;795;47...                                                                                                                                                                                                                                                                                                                                                                                 \n",
      "498  81370;Photo;3;1;4;11;0;4156;7564;626;574;832;4...                                                                                                                                                                                                                                                                                                                                                                                 \n",
      "499  81370;Photo;2;1;4;4;;4188;7292;564;524;743;386...                                                                                                                                                                                                                                                                                                                                                                                 \n",
      "\n",
      "[500 rows x 2 columns]\n"
     ]
    }
   ],
   "source": [
    "#joining subsets vertically\n",
    "a6=pd.concat([a2,a3],axis=1)\n",
    "print(a6)"
   ]
  },
  {
   "cell_type": "code",
   "execution_count": 19,
   "id": "4732b271-9747-442a-b77b-73080558b3d0",
   "metadata": {},
   "outputs": [
    {
     "name": "stdout",
     "output_type": "stream",
     "text": [
      "    Page total likes;Type;Category;Post Month;Post Weekday;Post Hour;Paid;Lifetime Post Total Reach;Lifetime Post Total Impressions;Lifetime Engaged Users;Lifetime Post Consumers;Lifetime Post Consumptions;Lifetime Post Impressions by people who have liked your Page;Lifetime Post reach by people who like your Page;Lifetime People who have liked your Page and engaged with your post;comment;like;share;Total Interactions_x  \\\n",
      "0    139441;Photo;2;12;4;3;0;2752;5091;178;109;159;...                                                                                                                                                                                                                                                                                                                                                                                    \n",
      "1    139441;Status;2;12;3;10;0;10460;19057;1457;136...                                                                                                                                                                                                                                                                                                                                                                                    \n",
      "2    139441;Photo;3;12;3;3;0;2413;4373;177;113;154;...                                                                                                                                                                                                                                                                                                                                                                                    \n",
      "3    139441;Photo;2;12;2;10;1;50128;87991;2211;790;...                                                                                                                                                                                                                                                                                                                                                                                    \n",
      "4    139441;Photo;2;12;2;3;0;7244;13594;671;410;580...                                                                                                                                                                                                                                                                                                                                                                                    \n",
      "..                                                 ...                                                                                                                                                                                                                                                                                                                                                                                    \n",
      "495  85093;Photo;3;1;7;2;0;4684;7536;733;708;985;47...                                                                                                                                                                                                                                                                                                                                                                                    \n",
      "496  81370;Photo;2;1;5;8;0;3480;6229;537;508;687;39...                                                                                                                                                                                                                                                                                                                                                                                    \n",
      "497  81370;Photo;1;1;5;2;0;3778;7216;625;572;795;47...                                                                                                                                                                                                                                                                                                                                                                                    \n",
      "498  81370;Photo;3;1;4;11;0;4156;7564;626;574;832;4...                                                                                                                                                                                                                                                                                                                                                                                    \n",
      "499  81370;Photo;2;1;4;4;;4188;7292;564;524;743;386...                                                                                                                                                                                                                                                                                                                                                                                    \n",
      "\n",
      "    Page total likes;Type;Category;Post Month;Post Weekday;Post Hour;Paid;Lifetime Post Total Reach;Lifetime Post Total Impressions;Lifetime Engaged Users;Lifetime Post Consumers;Lifetime Post Consumptions;Lifetime Post Impressions by people who have liked your Page;Lifetime Post reach by people who like your Page;Lifetime People who have liked your Page and engaged with your post;comment;like;share;Total Interactions_y  \n",
      "0    139441;Photo;2;12;4;3;0;2752;5091;178;109;159;...                                                                                                                                                                                                                                                                                                                                                                                   \n",
      "1    139441;Status;2;12;3;10;0;10460;19057;1457;136...                                                                                                                                                                                                                                                                                                                                                                                   \n",
      "2    139441;Photo;3;12;3;3;0;2413;4373;177;113;154;...                                                                                                                                                                                                                                                                                                                                                                                   \n",
      "3    139441;Photo;2;12;2;10;1;50128;87991;2211;790;...                                                                                                                                                                                                                                                                                                                                                                                   \n",
      "4    139441;Photo;2;12;2;3;0;7244;13594;671;410;580...                                                                                                                                                                                                                                                                                                                                                                                   \n",
      "..                                                 ...                                                                                                                                                                                                                                                                                                                                                                                   \n",
      "495  85093;Photo;3;1;7;2;0;4684;7536;733;708;985;47...                                                                                                                                                                                                                                                                                                                                                                                   \n",
      "496  81370;Photo;2;1;5;8;0;3480;6229;537;508;687;39...                                                                                                                                                                                                                                                                                                                                                                                   \n",
      "497  81370;Photo;1;1;5;2;0;3778;7216;625;572;795;47...                                                                                                                                                                                                                                                                                                                                                                                   \n",
      "498  81370;Photo;3;1;4;11;0;4156;7564;626;574;832;4...                                                                                                                                                                                                                                                                                                                                                                                   \n",
      "499  81370;Photo;2;1;4;4;;4188;7292;564;524;743;386...                                                                                                                                                                                                                                                                                                                                                                                   \n",
      "\n",
      "[500 rows x 2 columns]\n"
     ]
    }
   ],
   "source": [
    "#merge\n",
    "a8=a.iloc[:,:3]\n",
    "a9=a.iloc[:,:2]\n",
    "a10=a8.merge(a9,left_index=True,right_index=True,how='inner')\n",
    "print(a10)"
   ]
  },
  {
   "cell_type": "code",
   "execution_count": 20,
   "id": "5939f03f-debf-471b-9491-c5fb3db2405e",
   "metadata": {},
   "outputs": [
    {
     "name": "stdout",
     "output_type": "stream",
     "text": [
      "                                                                                                  0    \\\n",
      "Page total likes;Type;Category;Post Month;Post ...  139441;Photo;2;12;4;3;0;2752;5091;178;109;159;...   \n",
      "\n",
      "                                                                                                  1    \\\n",
      "Page total likes;Type;Category;Post Month;Post ...  139441;Status;2;12;3;10;0;10460;19057;1457;136...   \n",
      "\n",
      "                                                                                                  2    \\\n",
      "Page total likes;Type;Category;Post Month;Post ...  139441;Photo;3;12;3;3;0;2413;4373;177;113;154;...   \n",
      "\n",
      "                                                                                                  3    \\\n",
      "Page total likes;Type;Category;Post Month;Post ...  139441;Photo;2;12;2;10;1;50128;87991;2211;790;...   \n",
      "\n",
      "                                                                                                  4    \\\n",
      "Page total likes;Type;Category;Post Month;Post ...  139441;Photo;2;12;2;3;0;7244;13594;671;410;580...   \n",
      "\n",
      "                                                                                                  5    \\\n",
      "Page total likes;Type;Category;Post Month;Post ...  139441;Status;2;12;1;9;0;10472;20849;1191;1073...   \n",
      "\n",
      "                                                                                                  6    \\\n",
      "Page total likes;Type;Category;Post Month;Post ...  139441;Photo;3;12;1;3;1;11692;19479;481;265;36...   \n",
      "\n",
      "                                                                                                  7    \\\n",
      "Page total likes;Type;Category;Post Month;Post ...  139441;Photo;3;12;7;9;1;13720;24137;537;232;30...   \n",
      "\n",
      "                                                                                                  8    \\\n",
      "Page total likes;Type;Category;Post Month;Post ...  139441;Status;2;12;7;3;0;11844;22538;1530;1407...   \n",
      "\n",
      "                                                                                                  9    \\\n",
      "Page total likes;Type;Category;Post Month;Post ...  139441;Photo;3;12;6;10;0;4694;8668;280;183;250...   \n",
      "\n",
      "                                                    ...  \\\n",
      "Page total likes;Type;Category;Post Month;Post ...  ...   \n",
      "\n",
      "                                                                                                  490  \\\n",
      "Page total likes;Type;Category;Post Month;Post ...  85979;Photo;3;1;6;11;0;5280;8703;951;911;1237;...   \n",
      "\n",
      "                                                                                                  491  \\\n",
      "Page total likes;Type;Category;Post Month;Post ...  85979;Photo;3;1;6;3;1;6184;10228;956;901;1140;...   \n",
      "\n",
      "                                                                                                  492  \\\n",
      "Page total likes;Type;Category;Post Month;Post ...  85979;Link;1;1;5;11;0;45920;5808;753;655;763;1...   \n",
      "\n",
      "                                                                                                  493  \\\n",
      "Page total likes;Type;Category;Post Month;Post ...  85093;Photo;3;1;1;2;0;8412;13960;1179;1111;163...   \n",
      "\n",
      "                                                                                                  494  \\\n",
      "Page total likes;Type;Category;Post Month;Post ...  85093;Photo;3;1;7;10;0;5400;9218;810;756;1003;...   \n",
      "\n",
      "                                                                                                  495  \\\n",
      "Page total likes;Type;Category;Post Month;Post ...  85093;Photo;3;1;7;2;0;4684;7536;733;708;985;47...   \n",
      "\n",
      "                                                                                                  496  \\\n",
      "Page total likes;Type;Category;Post Month;Post ...  81370;Photo;2;1;5;8;0;3480;6229;537;508;687;39...   \n",
      "\n",
      "                                                                                                  497  \\\n",
      "Page total likes;Type;Category;Post Month;Post ...  81370;Photo;1;1;5;2;0;3778;7216;625;572;795;47...   \n",
      "\n",
      "                                                                                                  498  \\\n",
      "Page total likes;Type;Category;Post Month;Post ...  81370;Photo;3;1;4;11;0;4156;7564;626;574;832;4...   \n",
      "\n",
      "                                                                                                  499  \n",
      "Page total likes;Type;Category;Post Month;Post ...  81370;Photo;2;1;4;4;;4188;7292;564;524;743;386...  \n",
      "\n",
      "[1 rows x 500 columns]\n"
     ]
    }
   ],
   "source": [
    "#transpose\n",
    "x=a.T\n",
    "print(x)"
   ]
  }
 ],
 "metadata": {
  "kernelspec": {
   "display_name": "Python 3 (ipykernel)",
   "language": "python",
   "name": "python3"
  },
  "language_info": {
   "codemirror_mode": {
    "name": "ipython",
    "version": 3
   },
   "file_extension": ".py",
   "mimetype": "text/x-python",
   "name": "python",
   "nbconvert_exporter": "python",
   "pygments_lexer": "ipython3",
   "version": "3.11.4"
  }
 },
 "nbformat": 4,
 "nbformat_minor": 5
}
